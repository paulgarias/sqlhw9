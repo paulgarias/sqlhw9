{
 "cells": [
  {
   "cell_type": "code",
   "execution_count": 1,
   "metadata": {},
   "outputs": [],
   "source": [
    "import numpy as np\n",
    "import pandas as pd"
   ]
  },
  {
   "cell_type": "code",
   "execution_count": 2,
   "metadata": {},
   "outputs": [],
   "source": [
    "df_hs = pd.read_csv('Resources/hawaii_stations.csv')\n",
    "df_hm = pd.read_csv('Resources/hawaii_measurements.csv')\n",
    "df_hm = df_hm.dropna(axis=0,how='any')\n",
    "df_hs.to_csv('clean_hawaii_stations.csv',index=False)\n",
    "df_hm.to_csv('clean_hawaii_measurements.csv',index=False)"
   ]
  },
  {
   "cell_type": "code",
   "execution_count": 10,
   "metadata": {},
   "outputs": [
    {
     "data": {
      "text/html": [
       "<div>\n",
       "<style scoped>\n",
       "    .dataframe tbody tr th:only-of-type {\n",
       "        vertical-align: middle;\n",
       "    }\n",
       "\n",
       "    .dataframe tbody tr th {\n",
       "        vertical-align: top;\n",
       "    }\n",
       "\n",
       "    .dataframe thead th {\n",
       "        text-align: right;\n",
       "    }\n",
       "</style>\n",
       "<table border=\"1\" class=\"dataframe\">\n",
       "  <thead>\n",
       "    <tr style=\"text-align: right;\">\n",
       "      <th></th>\n",
       "      <th>station</th>\n",
       "      <th>date</th>\n",
       "      <th>prcp</th>\n",
       "      <th>tobs</th>\n",
       "    </tr>\n",
       "  </thead>\n",
       "  <tbody>\n",
       "    <tr>\n",
       "      <th>0</th>\n",
       "      <td>USC00519397</td>\n",
       "      <td>2010-01-01</td>\n",
       "      <td>0.08</td>\n",
       "      <td>65</td>\n",
       "    </tr>\n",
       "    <tr>\n",
       "      <th>1</th>\n",
       "      <td>USC00519397</td>\n",
       "      <td>2010-01-02</td>\n",
       "      <td>0.00</td>\n",
       "      <td>63</td>\n",
       "    </tr>\n",
       "    <tr>\n",
       "      <th>2</th>\n",
       "      <td>USC00519397</td>\n",
       "      <td>2010-01-03</td>\n",
       "      <td>0.00</td>\n",
       "      <td>74</td>\n",
       "    </tr>\n",
       "    <tr>\n",
       "      <th>3</th>\n",
       "      <td>USC00519397</td>\n",
       "      <td>2010-01-04</td>\n",
       "      <td>0.00</td>\n",
       "      <td>76</td>\n",
       "    </tr>\n",
       "    <tr>\n",
       "      <th>5</th>\n",
       "      <td>USC00519397</td>\n",
       "      <td>2010-01-07</td>\n",
       "      <td>0.06</td>\n",
       "      <td>70</td>\n",
       "    </tr>\n",
       "  </tbody>\n",
       "</table>\n",
       "</div>"
      ],
      "text/plain": [
       "       station        date  prcp  tobs\n",
       "0  USC00519397  2010-01-01  0.08    65\n",
       "1  USC00519397  2010-01-02  0.00    63\n",
       "2  USC00519397  2010-01-03  0.00    74\n",
       "3  USC00519397  2010-01-04  0.00    76\n",
       "5  USC00519397  2010-01-07  0.06    70"
      ]
     },
     "execution_count": 10,
     "metadata": {},
     "output_type": "execute_result"
    }
   ],
   "source": [
    "df_hm.head()"
   ]
  },
  {
   "cell_type": "code",
   "execution_count": 22,
   "metadata": {},
   "outputs": [
    {
     "data": {
      "text/html": [
       "<div>\n",
       "<style scoped>\n",
       "    .dataframe tbody tr th:only-of-type {\n",
       "        vertical-align: middle;\n",
       "    }\n",
       "\n",
       "    .dataframe tbody tr th {\n",
       "        vertical-align: top;\n",
       "    }\n",
       "\n",
       "    .dataframe thead th {\n",
       "        text-align: right;\n",
       "    }\n",
       "</style>\n",
       "<table border=\"1\" class=\"dataframe\">\n",
       "  <thead>\n",
       "    <tr style=\"text-align: right;\">\n",
       "      <th></th>\n",
       "      <th>station</th>\n",
       "      <th>name</th>\n",
       "      <th>latitude</th>\n",
       "      <th>longitude</th>\n",
       "      <th>elevation</th>\n",
       "    </tr>\n",
       "  </thead>\n",
       "  <tbody>\n",
       "    <tr>\n",
       "      <th>0</th>\n",
       "      <td>USC00519397</td>\n",
       "      <td>WAIKIKI 717.2, HI US</td>\n",
       "      <td>21.27160</td>\n",
       "      <td>-157.81680</td>\n",
       "      <td>3.0</td>\n",
       "    </tr>\n",
       "    <tr>\n",
       "      <th>1</th>\n",
       "      <td>USC00513117</td>\n",
       "      <td>KANEOHE 838.1, HI US</td>\n",
       "      <td>21.42340</td>\n",
       "      <td>-157.80150</td>\n",
       "      <td>14.6</td>\n",
       "    </tr>\n",
       "    <tr>\n",
       "      <th>2</th>\n",
       "      <td>USC00514830</td>\n",
       "      <td>KUALOA RANCH HEADQUARTERS 886.9, HI US</td>\n",
       "      <td>21.52130</td>\n",
       "      <td>-157.83740</td>\n",
       "      <td>7.0</td>\n",
       "    </tr>\n",
       "    <tr>\n",
       "      <th>3</th>\n",
       "      <td>USC00517948</td>\n",
       "      <td>PEARL CITY, HI US</td>\n",
       "      <td>21.39340</td>\n",
       "      <td>-157.97510</td>\n",
       "      <td>11.9</td>\n",
       "    </tr>\n",
       "    <tr>\n",
       "      <th>4</th>\n",
       "      <td>USC00518838</td>\n",
       "      <td>UPPER WAHIAWA 874.3, HI US</td>\n",
       "      <td>21.49920</td>\n",
       "      <td>-158.01110</td>\n",
       "      <td>306.6</td>\n",
       "    </tr>\n",
       "    <tr>\n",
       "      <th>5</th>\n",
       "      <td>USC00519523</td>\n",
       "      <td>WAIMANALO EXPERIMENTAL FARM, HI US</td>\n",
       "      <td>21.33556</td>\n",
       "      <td>-157.71139</td>\n",
       "      <td>19.5</td>\n",
       "    </tr>\n",
       "    <tr>\n",
       "      <th>6</th>\n",
       "      <td>USC00519281</td>\n",
       "      <td>WAIHEE 837.5, HI US</td>\n",
       "      <td>21.45167</td>\n",
       "      <td>-157.84889</td>\n",
       "      <td>32.9</td>\n",
       "    </tr>\n",
       "    <tr>\n",
       "      <th>7</th>\n",
       "      <td>USC00511918</td>\n",
       "      <td>HONOLULU OBSERVATORY 702.2, HI US</td>\n",
       "      <td>21.31520</td>\n",
       "      <td>-157.99920</td>\n",
       "      <td>0.9</td>\n",
       "    </tr>\n",
       "    <tr>\n",
       "      <th>8</th>\n",
       "      <td>USC00516128</td>\n",
       "      <td>MANOA LYON ARBO 785.2, HI US</td>\n",
       "      <td>21.33310</td>\n",
       "      <td>-157.80250</td>\n",
       "      <td>152.4</td>\n",
       "    </tr>\n",
       "  </tbody>\n",
       "</table>\n",
       "</div>"
      ],
      "text/plain": [
       "       station                                    name  latitude  longitude  \\\n",
       "0  USC00519397                    WAIKIKI 717.2, HI US  21.27160 -157.81680   \n",
       "1  USC00513117                    KANEOHE 838.1, HI US  21.42340 -157.80150   \n",
       "2  USC00514830  KUALOA RANCH HEADQUARTERS 886.9, HI US  21.52130 -157.83740   \n",
       "3  USC00517948                       PEARL CITY, HI US  21.39340 -157.97510   \n",
       "4  USC00518838              UPPER WAHIAWA 874.3, HI US  21.49920 -158.01110   \n",
       "5  USC00519523      WAIMANALO EXPERIMENTAL FARM, HI US  21.33556 -157.71139   \n",
       "6  USC00519281                     WAIHEE 837.5, HI US  21.45167 -157.84889   \n",
       "7  USC00511918       HONOLULU OBSERVATORY 702.2, HI US  21.31520 -157.99920   \n",
       "8  USC00516128            MANOA LYON ARBO 785.2, HI US  21.33310 -157.80250   \n",
       "\n",
       "   elevation  \n",
       "0        3.0  \n",
       "1       14.6  \n",
       "2        7.0  \n",
       "3       11.9  \n",
       "4      306.6  \n",
       "5       19.5  \n",
       "6       32.9  \n",
       "7        0.9  \n",
       "8      152.4  "
      ]
     },
     "execution_count": 22,
     "metadata": {},
     "output_type": "execute_result"
    }
   ],
   "source": [
    "df_hs"
   ]
  },
  {
   "cell_type": "code",
   "execution_count": 3,
   "metadata": {},
   "outputs": [],
   "source": [
    "import sqlalchemy\n",
    "from sqlalchemy import create_engine, MetaData\n",
    "from sqlalchemy.ext.declarative import declarative_base\n",
    "from sqlalchemy import Column, Integer, String, Numeric, Text, Float"
   ]
  },
  {
   "cell_type": "code",
   "execution_count": 4,
   "metadata": {},
   "outputs": [],
   "source": [
    "# Create an engine to a SQLite database file called `hawaii.sqlite`\n",
    "engine = create_engine(\"sqlite:///hawaii.sqlite\")"
   ]
  },
  {
   "cell_type": "code",
   "execution_count": 5,
   "metadata": {},
   "outputs": [],
   "source": [
    "# Create a connection to the engine called `conn`\n",
    "conn = engine.connect()"
   ]
  },
  {
   "cell_type": "code",
   "execution_count": 23,
   "metadata": {},
   "outputs": [],
   "source": [
    "# Use `declarative_base` and create ORM classes for each table.\n",
    "# You will need a class for `Measurement` and for `Station`.\n",
    "# Make sure to define your primary keys.\n",
    "\n",
    "# http://docs.sqlalchemy.org/en/latest/core/type_basics.html\n",
    "Base = declarative_base()\n",
    "\n",
    "class Measurement(Base):\n",
    "    __tablename__ = 'measurements'\n",
    "\n",
    "    id = Column(Integer, primary_key=True,autoincrement=True)\n",
    "    station = Column(Text)\n",
    "    prcp = Column(Numeric(precision=3))\n",
    "    tobs = Column(Integer)\n",
    "    \n",
    "   \n",
    "    def __repr__(self):\n",
    "        return f\"id={self.id}, station={self.station}, prcp ={self.prcp}, tops={self.tobs}\"\n",
    "\n",
    "class stations(Base):\n",
    "    __tablename__ = 'stations'\n",
    "\n",
    "    station = Column(Text, primary_key=True)\n",
    "    name = Column(Text)\n",
    "    latitude = Column(Float)\n",
    "    longitude = Column(Float)\n",
    "    elevation = Column(Float)\n",
    "   \n",
    "    def __repr__(self):\n",
    "        return f\"id={self.id}, station={self.station}, prcp ={self.prcp}, tops={self.tobs}\"\n",
    "\n",
    "# More on __repr__: https://stackoverflow.com/questions/1984162/purpose-of-pythons-repr "
   ]
  },
  {
   "cell_type": "code",
   "execution_count": 24,
   "metadata": {},
   "outputs": [],
   "source": [
    "Base.metadata.create_all(engine)"
   ]
  },
  {
   "cell_type": "code",
   "execution_count": 25,
   "metadata": {},
   "outputs": [],
   "source": [
    "# For the stations table\n",
    "\n",
    "# Use Orient='records' to create a list of data to write\n",
    "# to_dict() cleans out DataFrame metadata as well\n",
    "# http://pandas-docs.github.io/pandas-docs-travis/io.html#orient-options\n",
    "data = df_hs.to_dict(orient='records')"
   ]
  },
  {
   "cell_type": "code",
   "execution_count": 28,
   "metadata": {},
   "outputs": [
    {
     "data": {
      "text/plain": [
       "<sqlalchemy.engine.result.ResultProxy at 0x10dc7ef28>"
      ]
     },
     "execution_count": 28,
     "metadata": {},
     "output_type": "execute_result"
    }
   ],
   "source": [
    "# Use MetaData from SQLAlchemy to reflect the tables\n",
    "metadata = MetaData(bind=engine)\n",
    "metadata.reflect()\n",
    "# Save the reference to the `customers` table as a variable called `table`\n",
    "table = sqlalchemy.Table('stations', metadata, autoload=True)\n",
    "# Use `table.delete()` to remove any pre-existing data.\n",
    "# Note that this is a convenience function so that you can re-run the example code multiple times.\n",
    "# You would not likely do this step in production.\n",
    "conn.execute(table.delete())"
   ]
  },
  {
   "cell_type": "code",
   "execution_count": 29,
   "metadata": {},
   "outputs": [
    {
     "data": {
      "text/plain": [
       "<sqlalchemy.engine.result.ResultProxy at 0x10dc7e940>"
      ]
     },
     "execution_count": 29,
     "metadata": {},
     "output_type": "execute_result"
    }
   ],
   "source": [
    "# Use `table.insert()` to insert the data into the table\n",
    "# The SQL table is populated during this step\n",
    "conn.execute(table.insert(), data)"
   ]
  },
  {
   "cell_type": "code",
   "execution_count": 32,
   "metadata": {},
   "outputs": [
    {
     "data": {
      "text/plain": [
       "[('USC00519397', 'WAIKIKI 717.2, HI US', 21.2716, -157.8168, 3.0),\n",
       " ('USC00513117', 'KANEOHE 838.1, HI US', 21.4234, -157.8015, 14.6),\n",
       " ('USC00514830', 'KUALOA RANCH HEADQUARTERS 886.9, HI US', 21.5213, -157.8374, 7.0),\n",
       " ('USC00517948', 'PEARL CITY, HI US', 21.3934, -157.9751, 11.9),\n",
       " ('USC00518838', 'UPPER WAHIAWA 874.3, HI US', 21.4992, -158.0111, 306.6),\n",
       " ('USC00519523', 'WAIMANALO EXPERIMENTAL FARM, HI US', 21.33556, -157.71139, 19.5),\n",
       " ('USC00519281', 'WAIHEE 837.5, HI US', 21.45167, -157.84888999999998, 32.9),\n",
       " ('USC00511918', 'HONOLULU OBSERVATORY 702.2, HI US', 21.3152, -157.9992, 0.9),\n",
       " ('USC00516128', 'MANOA LYON ARBO 785.2, HI US', 21.3331, -157.8025, 152.4)]"
      ]
     },
     "execution_count": 32,
     "metadata": {},
     "output_type": "execute_result"
    }
   ],
   "source": [
    "# Test that the insert works by fetching the first 5 rows. \n",
    "conn.execute(\"select * from stations limit 10\").fetchall()"
   ]
  },
  {
   "cell_type": "code",
   "execution_count": 33,
   "metadata": {},
   "outputs": [],
   "source": [
    "# For the measurements table\n",
    "\n",
    "# Use Orient='records' to create a list of data to write\n",
    "# to_dict() cleans out DataFrame metadata as well\n",
    "# http://pandas-docs.github.io/pandas-docs-travis/io.html#orient-options\n",
    "data = df_hm.to_dict(orient='records')"
   ]
  },
  {
   "cell_type": "code",
   "execution_count": 34,
   "metadata": {},
   "outputs": [
    {
     "data": {
      "text/plain": [
       "<sqlalchemy.engine.result.ResultProxy at 0x10d291748>"
      ]
     },
     "execution_count": 34,
     "metadata": {},
     "output_type": "execute_result"
    }
   ],
   "source": [
    "# Use MetaData from SQLAlchemy to reflect the tables\n",
    "metadata = MetaData(bind=engine)\n",
    "metadata.reflect()\n",
    "# Save the reference to the `measurements` table as a variable called `table`\n",
    "table = sqlalchemy.Table('measurements', metadata, autoload=True)\n",
    "# Use `table.delete()` to remove any pre-existing data.\n",
    "# Note that this is a convenience function so that you can re-run the example code multiple times.\n",
    "# You would not likely do this step in production.\n",
    "conn.execute(table.delete())"
   ]
  },
  {
   "cell_type": "code",
   "execution_count": 35,
   "metadata": {},
   "outputs": [
    {
     "data": {
      "text/plain": [
       "<sqlalchemy.engine.result.ResultProxy at 0x10dc7efd0>"
      ]
     },
     "execution_count": 35,
     "metadata": {},
     "output_type": "execute_result"
    }
   ],
   "source": [
    "# Use `table.insert()` to insert the data into the table\n",
    "# The SQL table is populated during this step\n",
    "conn.execute(table.insert(), data)"
   ]
  },
  {
   "cell_type": "code",
   "execution_count": 36,
   "metadata": {},
   "outputs": [
    {
     "data": {
      "text/plain": [
       "[(1, 'USC00519397', 0.08, 65),\n",
       " (2, 'USC00519397', 0, 63),\n",
       " (3, 'USC00519397', 0, 74),\n",
       " (4, 'USC00519397', 0, 76),\n",
       " (5, 'USC00519397', 0.06, 70),\n",
       " (6, 'USC00519397', 0, 64),\n",
       " (7, 'USC00519397', 0, 68),\n",
       " (8, 'USC00519397', 0, 73),\n",
       " (9, 'USC00519397', 0.01, 64),\n",
       " (10, 'USC00519397', 0, 61),\n",
       " (11, 'USC00519397', 0, 66),\n",
       " (12, 'USC00519397', 0, 65),\n",
       " (13, 'USC00519397', 0, 68),\n",
       " (14, 'USC00519397', 0, 64),\n",
       " (15, 'USC00519397', 0, 72),\n",
       " (16, 'USC00519397', 0, 66),\n",
       " (17, 'USC00519397', 0, 66),\n",
       " (18, 'USC00519397', 0, 69),\n",
       " (19, 'USC00519397', 0, 67),\n",
       " (20, 'USC00519397', 0, 67),\n",
       " (21, 'USC00519397', 0.01, 71),\n",
       " (22, 'USC00519397', 0, 67),\n",
       " (23, 'USC00519397', 0.04, 76),\n",
       " (24, 'USC00519397', 0.12, 68),\n",
       " (25, 'USC00519397', 0, 72),\n",
       " (26, 'USC00519397', 0.03, 67),\n",
       " (27, 'USC00519397', 0.01, 66),\n",
       " (28, 'USC00519397', 0.01, 69),\n",
       " (29, 'USC00519397', 0, 67),\n",
       " (30, 'USC00519397', 0, 67),\n",
       " (31, 'USC00519397', 0, 64),\n",
       " (32, 'USC00519397', 0, 69),\n",
       " (33, 'USC00519397', 0, 73),\n",
       " (34, 'USC00519397', 0, 73),\n",
       " (35, 'USC00519397', 0.02, 69),\n",
       " (36, 'USC00519397', 0.01, 69),\n",
       " (37, 'USC00519397', 0, 69),\n",
       " (38, 'USC00519397', 0, 71),\n",
       " (39, 'USC00519397', 0, 61),\n",
       " (40, 'USC00519397', 0, 69),\n",
       " (41, 'USC00519397', 0.03, 64),\n",
       " (42, 'USC00519397', 0, 65),\n",
       " (43, 'USC00519397', 0, 67),\n",
       " (44, 'USC00519397', 0, 68),\n",
       " (45, 'USC00519397', 0, 65),\n",
       " (46, 'USC00519397', 0, 76),\n",
       " (47, 'USC00519397', 0, 75),\n",
       " (48, 'USC00519397', 0, 66),\n",
       " (49, 'USC00519397', 0.01, 70),\n",
       " (50, 'USC00519397', 0, 72),\n",
       " (51, 'USC00519397', 0, 73),\n",
       " (52, 'USC00519397', 0.12, 70),\n",
       " (53, 'USC00519397', 0.08, 71),\n",
       " (54, 'USC00519397', 0.03, 72),\n",
       " (55, 'USC00519397', 0, 72),\n",
       " (56, 'USC00519397', 0.43, 69),\n",
       " (57, 'USC00519397', 0.06, 70),\n",
       " (58, 'USC00519397', 0, 72),\n",
       " (59, 'USC00519397', 0, 73),\n",
       " (60, 'USC00519397', 0, 70),\n",
       " (61, 'USC00519397', 0.06, 71),\n",
       " (62, 'USC00519397', 0, 68),\n",
       " (63, 'USC00519397', 0, 70),\n",
       " (64, 'USC00519397', 0, 72),\n",
       " (65, 'USC00519397', 0, 69),\n",
       " (66, 'USC00519397', 0, 68),\n",
       " (67, 'USC00519397', 0, 74),\n",
       " (68, 'USC00519397', 0, 72),\n",
       " (69, 'USC00519397', 0, 73),\n",
       " (70, 'USC00519397', 0, 74),\n",
       " (71, 'USC00519397', 0, 73),\n",
       " (72, 'USC00519397', 0, 73),\n",
       " (73, 'USC00519397', 0, 74),\n",
       " (74, 'USC00519397', 0.01, 74),\n",
       " (75, 'USC00519397', 0.17, 74),\n",
       " (76, 'USC00519397', 0.15, 71),\n",
       " (77, 'USC00519397', 0.27, 72),\n",
       " (78, 'USC00519397', 0.01, 75),\n",
       " (79, 'USC00519397', 0, 75),\n",
       " (80, 'USC00519397', 0.01, 75),\n",
       " (81, 'USC00519397', 0, 75),\n",
       " (82, 'USC00519397', 0.01, 73),\n",
       " (83, 'USC00519397', 0.01, 73),\n",
       " (84, 'USC00519397', 0, 71),\n",
       " (85, 'USC00519397', 0, 71),\n",
       " (86, 'USC00519397', 0.01, 68),\n",
       " (87, 'USC00519397', 0, 70),\n",
       " (88, 'USC00519397', 0, 71),\n",
       " (89, 'USC00519397', 0, 74),\n",
       " (90, 'USC00519397', 0.04, 71),\n",
       " (91, 'USC00519397', 0.01, 75),\n",
       " (92, 'USC00519397', 0, 76),\n",
       " (93, 'USC00519397', 0.02, 75),\n",
       " (94, 'USC00519397', 0, 75),\n",
       " (95, 'USC00519397', 0, 76),\n",
       " (96, 'USC00519397', 0, 76),\n",
       " (97, 'USC00519397', 0, 76),\n",
       " (98, 'USC00519397', 0, 77),\n",
       " (99, 'USC00519397', 0, 77),\n",
       " (100, 'USC00519397', 0.03, 73)]"
      ]
     },
     "execution_count": 36,
     "metadata": {},
     "output_type": "execute_result"
    }
   ],
   "source": [
    "# Test that the insert works by fetching the first 5 rows. \n",
    "conn.execute(\"select * from measurements limit 100\").fetchall()"
   ]
  },
  {
   "cell_type": "code",
   "execution_count": 40,
   "metadata": {},
   "outputs": [],
   "source": [
    "conn.close()"
   ]
  }
 ],
 "metadata": {
  "kernelspec": {
   "display_name": "Python 3",
   "language": "python",
   "name": "python3"
  },
  "language_info": {
   "codemirror_mode": {
    "name": "ipython",
    "version": 3
   },
   "file_extension": ".py",
   "mimetype": "text/x-python",
   "name": "python",
   "nbconvert_exporter": "python",
   "pygments_lexer": "ipython3",
   "version": "3.6.4"
  }
 },
 "nbformat": 4,
 "nbformat_minor": 2
}
