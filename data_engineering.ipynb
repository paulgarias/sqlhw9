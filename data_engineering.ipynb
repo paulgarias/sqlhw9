{
 "cells": [
  {
   "cell_type": "code",
   "execution_count": 1,
   "metadata": {},
   "outputs": [],
   "source": [
    "!rm hawaii.sqlite"
   ]
  },
  {
   "cell_type": "code",
   "execution_count": 2,
   "metadata": {},
   "outputs": [],
   "source": [
    "import numpy as np\n",
    "import pandas as pd\n",
    "from datetime import datetime"
   ]
  },
  {
   "cell_type": "code",
   "execution_count": 3,
   "metadata": {},
   "outputs": [
    {
     "name": "stdout",
     "output_type": "stream",
     "text": [
      "       station        date  prcp  tobs\n",
      "0  USC00519397  2010-01-01  0.08    65\n",
      "1  USC00519397  2010-01-02  0.00    63\n",
      "2  USC00519397  2010-01-03  0.00    74\n",
      "3  USC00519397  2010-01-04  0.00    76\n",
      "5  USC00519397  2010-01-07  0.06    70\n",
      "       station                                    name  latitude  longitude  \\\n",
      "0  USC00519397                    WAIKIKI 717.2, HI US  21.27160 -157.81680   \n",
      "1  USC00513117                    KANEOHE 838.1, HI US  21.42340 -157.80150   \n",
      "2  USC00514830  KUALOA RANCH HEADQUARTERS 886.9, HI US  21.52130 -157.83740   \n",
      "3  USC00517948                       PEARL CITY, HI US  21.39340 -157.97510   \n",
      "4  USC00518838              UPPER WAHIAWA 874.3, HI US  21.49920 -158.01110   \n",
      "5  USC00519523      WAIMANALO EXPERIMENTAL FARM, HI US  21.33556 -157.71139   \n",
      "6  USC00519281                     WAIHEE 837.5, HI US  21.45167 -157.84889   \n",
      "7  USC00511918       HONOLULU OBSERVATORY 702.2, HI US  21.31520 -157.99920   \n",
      "8  USC00516128            MANOA LYON ARBO 785.2, HI US  21.33310 -157.80250   \n",
      "\n",
      "   elevation  \n",
      "0        3.0  \n",
      "1       14.6  \n",
      "2        7.0  \n",
      "3       11.9  \n",
      "4      306.6  \n",
      "5       19.5  \n",
      "6       32.9  \n",
      "7        0.9  \n",
      "8      152.4  \n"
     ]
    }
   ],
   "source": [
    "df_hs = pd.read_csv('Resources/hawaii_stations.csv')\n",
    "df_hm = pd.read_csv('Resources/hawaii_measurements.csv')\n",
    "df_hm = df_hm.dropna(axis=0,how='any')\n",
    "df_hs.to_csv('clean_hawaii_stations.csv',index=False)\n",
    "df_hm.to_csv('clean_hawaii_measurements.csv',index=False)\n",
    "print(df_hm.head())\n",
    "print(df_hs)"
   ]
  },
  {
   "cell_type": "code",
   "execution_count": 4,
   "metadata": {},
   "outputs": [],
   "source": [
    "def isoformatToDateTime(datestring):\n",
    "    year,month,day = datestring.split(\"-\")\n",
    "    year,month,day = np.int(year),np.int(month),np.int(day)\n",
    "    return datetime(year,month,day)"
   ]
  },
  {
   "cell_type": "code",
   "execution_count": 5,
   "metadata": {},
   "outputs": [],
   "source": [
    "import numpy as np\n",
    "import pandas as pd"
   ]
  },
  {
   "cell_type": "code",
   "execution_count": 6,
   "metadata": {},
   "outputs": [],
   "source": [
    "df_hs = pd.read_csv('clean_hawaii_stations.csv')\n",
    "df_hm = pd.read_csv('clean_hawaii_measurements.csv')\n",
    "\n",
    "# Convert df_hm['date'] to datetime\n",
    "df_hm['date'] = df_hm['date'].map(isoformatToDateTime)"
   ]
  },
  {
   "cell_type": "code",
   "execution_count": null,
   "metadata": {},
   "outputs": [],
   "source": []
  },
  {
   "cell_type": "code",
   "execution_count": 7,
   "metadata": {},
   "outputs": [],
   "source": [
    "import sqlalchemy\n",
    "from sqlalchemy import create_engine, MetaData\n",
    "from sqlalchemy.ext.declarative import declarative_base\n",
    "from sqlalchemy import Column, Integer, String, Numeric, Text, Float, DateTime"
   ]
  },
  {
   "cell_type": "code",
   "execution_count": null,
   "metadata": {},
   "outputs": [],
   "source": []
  },
  {
   "cell_type": "code",
   "execution_count": null,
   "metadata": {},
   "outputs": [],
   "source": []
  },
  {
   "cell_type": "code",
   "execution_count": 8,
   "metadata": {},
   "outputs": [],
   "source": [
    "# Create an engine to a SQLite database file called `hawaii.sqlite`\n",
    "engine = create_engine(\"sqlite:///hawaii.sqlite\")"
   ]
  },
  {
   "cell_type": "code",
   "execution_count": 9,
   "metadata": {},
   "outputs": [],
   "source": [
    "# Create a connection to the engine called `conn`\n",
    "conn = engine.connect()"
   ]
  },
  {
   "cell_type": "code",
   "execution_count": 10,
   "metadata": {},
   "outputs": [],
   "source": [
    "# Use `declarative_base` and create ORM classes for each table.\n",
    "# You will need a class for `Measurement` and for `Station`.\n",
    "# Make sure to define your primary keys.\n",
    "\n",
    "# http://docs.sqlalchemy.org/en/latest/core/type_basics.html\n",
    "Base = declarative_base()\n",
    "\n",
    "class Measurement(Base):\n",
    "    __tablename__ = 'measurements'\n",
    "\n",
    "    id = Column(Integer, primary_key=True,autoincrement=True)\n",
    "    station = Column(Text)\n",
    "    date = Column(DateTime)\n",
    "    prcp = Column(Float)\n",
    "    tobs = Column(Integer)\n",
    "    \n",
    "   \n",
    "    def __repr__(self):\n",
    "        return f\"id={self.id}, station={self.station}, prcp ={self.prcp}, tops={self.tobs}\"\n",
    "\n",
    "class stations(Base):\n",
    "    __tablename__ = 'stations'\n",
    "\n",
    "    station = Column(Text, primary_key=True)\n",
    "    name = Column(Text)\n",
    "    latitude = Column(Float)\n",
    "    longitude = Column(Float)\n",
    "    elevation = Column(Float)\n",
    "   \n",
    "    def __repr__(self):\n",
    "        return f\"id={self.id}, station={self.station}, prcp ={self.prcp}, tops={self.tobs}\"\n",
    "\n",
    "# More on __repr__: https://stackoverflow.com/questions/1984162/purpose-of-pythons-repr "
   ]
  },
  {
   "cell_type": "code",
   "execution_count": 11,
   "metadata": {},
   "outputs": [],
   "source": [
    "Base.metadata.create_all(engine)"
   ]
  },
  {
   "cell_type": "code",
   "execution_count": 12,
   "metadata": {},
   "outputs": [],
   "source": [
    "# For the stations table\n",
    "\n",
    "# Use Orient='records' to create a list of data to write\n",
    "# to_dict() cleans out DataFrame metadata as well\n",
    "# http://pandas-docs.github.io/pandas-docs-travis/io.html#orient-options\n",
    "data = df_hs.to_dict(orient='records')"
   ]
  },
  {
   "cell_type": "code",
   "execution_count": 13,
   "metadata": {},
   "outputs": [
    {
     "data": {
      "text/plain": [
       "<sqlalchemy.engine.result.ResultProxy at 0x106f050b8>"
      ]
     },
     "execution_count": 13,
     "metadata": {},
     "output_type": "execute_result"
    }
   ],
   "source": [
    "# Use MetaData from SQLAlchemy to reflect the tables\n",
    "metadata = MetaData(bind=engine)\n",
    "metadata.reflect()\n",
    "# Save the reference to the `customers` table as a variable called `table`\n",
    "table = sqlalchemy.Table('stations', metadata, autoload=True)\n",
    "# Use `table.delete()` to remove any pre-existing data.\n",
    "# Note that this is a convenience function so that you can re-run the example code multiple times.\n",
    "# You would not likely do this step in production.\n",
    "conn.execute(table.delete())"
   ]
  },
  {
   "cell_type": "code",
   "execution_count": 14,
   "metadata": {},
   "outputs": [
    {
     "data": {
      "text/plain": [
       "<sqlalchemy.engine.result.ResultProxy at 0x106eade48>"
      ]
     },
     "execution_count": 14,
     "metadata": {},
     "output_type": "execute_result"
    }
   ],
   "source": [
    "# Use `table.insert()` to insert the data into the table\n",
    "# The SQL table is populated during this step\n",
    "conn.execute(table.insert(), data)"
   ]
  },
  {
   "cell_type": "code",
   "execution_count": 15,
   "metadata": {},
   "outputs": [
    {
     "data": {
      "text/plain": [
       "[('USC00519397', 'WAIKIKI 717.2, HI US', 21.2716, -157.8168, 3.0),\n",
       " ('USC00513117', 'KANEOHE 838.1, HI US', 21.4234, -157.8015, 14.6),\n",
       " ('USC00514830', 'KUALOA RANCH HEADQUARTERS 886.9, HI US', 21.5213, -157.8374, 7.0),\n",
       " ('USC00517948', 'PEARL CITY, HI US', 21.3934, -157.9751, 11.9),\n",
       " ('USC00518838', 'UPPER WAHIAWA 874.3, HI US', 21.4992, -158.0111, 306.6),\n",
       " ('USC00519523', 'WAIMANALO EXPERIMENTAL FARM, HI US', 21.33556, -157.71139, 19.5),\n",
       " ('USC00519281', 'WAIHEE 837.5, HI US', 21.45167, -157.84888999999995, 32.9),\n",
       " ('USC00511918', 'HONOLULU OBSERVATORY 702.2, HI US', 21.3152, -157.9992, 0.9),\n",
       " ('USC00516128', 'MANOA LYON ARBO 785.2, HI US', 21.3331, -157.8025, 152.4)]"
      ]
     },
     "execution_count": 15,
     "metadata": {},
     "output_type": "execute_result"
    }
   ],
   "source": [
    "# Test that the insert works by fetching the first 5 rows. \n",
    "conn.execute(\"select * from stations limit 10\").fetchall()"
   ]
  },
  {
   "cell_type": "code",
   "execution_count": 16,
   "metadata": {},
   "outputs": [],
   "source": [
    "# For the measurements table\n",
    "\n",
    "# Use Orient='records' to create a list of data to write\n",
    "# to_dict() cleans out DataFrame metadata as well\n",
    "# http://pandas-docs.github.io/pandas-docs-travis/io.html#orient-options\n",
    "data = df_hm.to_dict(orient='records')"
   ]
  },
  {
   "cell_type": "code",
   "execution_count": 17,
   "metadata": {},
   "outputs": [
    {
     "data": {
      "text/plain": [
       "<sqlalchemy.engine.result.ResultProxy at 0x106ead438>"
      ]
     },
     "execution_count": 17,
     "metadata": {},
     "output_type": "execute_result"
    }
   ],
   "source": [
    "# Use MetaData from SQLAlchemy to reflect the tables\n",
    "metadata = MetaData(bind=engine)\n",
    "metadata.reflect()\n",
    "# Save the reference to the `measurements` table as a variable called `table`\n",
    "table = sqlalchemy.Table('measurements', metadata, autoload=True)\n",
    "# Use `table.delete()` to remove any pre-existing data.\n",
    "# Note that this is a convenience function so that you can re-run the example code multiple times.\n",
    "# You would not likely do this step in production.\n",
    "conn.execute(table.delete())"
   ]
  },
  {
   "cell_type": "code",
   "execution_count": 18,
   "metadata": {},
   "outputs": [
    {
     "data": {
      "text/plain": [
       "<sqlalchemy.engine.result.ResultProxy at 0x106ed00b8>"
      ]
     },
     "execution_count": 18,
     "metadata": {},
     "output_type": "execute_result"
    }
   ],
   "source": [
    "# Use `table.insert()` to insert the data into the table\n",
    "# The SQL table is populated during this step\n",
    "conn.execute(table.insert(), data)"
   ]
  },
  {
   "cell_type": "code",
   "execution_count": 19,
   "metadata": {},
   "outputs": [
    {
     "data": {
      "text/plain": [
       "[(1, 'USC00519397', '2010-01-01 00:00:00.000000', 0.08, 65),\n",
       " (2, 'USC00519397', '2010-01-02 00:00:00.000000', 0.0, 63),\n",
       " (3, 'USC00519397', '2010-01-03 00:00:00.000000', 0.0, 74),\n",
       " (4, 'USC00519397', '2010-01-04 00:00:00.000000', 0.0, 76),\n",
       " (5, 'USC00519397', '2010-01-07 00:00:00.000000', 0.06, 70),\n",
       " (6, 'USC00519397', '2010-01-08 00:00:00.000000', 0.0, 64),\n",
       " (7, 'USC00519397', '2010-01-09 00:00:00.000000', 0.0, 68),\n",
       " (8, 'USC00519397', '2010-01-10 00:00:00.000000', 0.0, 73),\n",
       " (9, 'USC00519397', '2010-01-11 00:00:00.000000', 0.01, 64),\n",
       " (10, 'USC00519397', '2010-01-12 00:00:00.000000', 0.0, 61),\n",
       " (11, 'USC00519397', '2010-01-14 00:00:00.000000', 0.0, 66),\n",
       " (12, 'USC00519397', '2010-01-15 00:00:00.000000', 0.0, 65),\n",
       " (13, 'USC00519397', '2010-01-16 00:00:00.000000', 0.0, 68),\n",
       " (14, 'USC00519397', '2010-01-17 00:00:00.000000', 0.0, 64),\n",
       " (15, 'USC00519397', '2010-01-18 00:00:00.000000', 0.0, 72),\n",
       " (16, 'USC00519397', '2010-01-19 00:00:00.000000', 0.0, 66),\n",
       " (17, 'USC00519397', '2010-01-20 00:00:00.000000', 0.0, 66),\n",
       " (18, 'USC00519397', '2010-01-21 00:00:00.000000', 0.0, 69),\n",
       " (19, 'USC00519397', '2010-01-22 00:00:00.000000', 0.0, 67),\n",
       " (20, 'USC00519397', '2010-01-23 00:00:00.000000', 0.0, 67),\n",
       " (21, 'USC00519397', '2010-01-24 00:00:00.000000', 0.01, 71),\n",
       " (22, 'USC00519397', '2010-01-25 00:00:00.000000', 0.0, 67),\n",
       " (23, 'USC00519397', '2010-01-26 00:00:00.000000', 0.04, 76),\n",
       " (24, 'USC00519397', '2010-01-27 00:00:00.000000', 0.12, 68),\n",
       " (25, 'USC00519397', '2010-01-28 00:00:00.000000', 0.0, 72),\n",
       " (26, 'USC00519397', '2010-01-31 00:00:00.000000', 0.03, 67),\n",
       " (27, 'USC00519397', '2010-02-01 00:00:00.000000', 0.01, 66),\n",
       " (28, 'USC00519397', '2010-02-04 00:00:00.000000', 0.01, 69),\n",
       " (29, 'USC00519397', '2010-02-05 00:00:00.000000', 0.0, 67),\n",
       " (30, 'USC00519397', '2010-02-06 00:00:00.000000', 0.0, 67),\n",
       " (31, 'USC00519397', '2010-02-07 00:00:00.000000', 0.0, 64),\n",
       " (32, 'USC00519397', '2010-02-08 00:00:00.000000', 0.0, 69),\n",
       " (33, 'USC00519397', '2010-02-09 00:00:00.000000', 0.0, 73),\n",
       " (34, 'USC00519397', '2010-02-11 00:00:00.000000', 0.0, 73),\n",
       " (35, 'USC00519397', '2010-02-12 00:00:00.000000', 0.02, 69),\n",
       " (36, 'USC00519397', '2010-02-13 00:00:00.000000', 0.01, 69),\n",
       " (37, 'USC00519397', '2010-02-14 00:00:00.000000', 0.0, 69),\n",
       " (38, 'USC00519397', '2010-02-15 00:00:00.000000', 0.0, 71),\n",
       " (39, 'USC00519397', '2010-02-16 00:00:00.000000', 0.0, 61),\n",
       " (40, 'USC00519397', '2010-02-17 00:00:00.000000', 0.0, 69),\n",
       " (41, 'USC00519397', '2010-02-20 00:00:00.000000', 0.03, 64),\n",
       " (42, 'USC00519397', '2010-02-21 00:00:00.000000', 0.0, 65),\n",
       " (43, 'USC00519397', '2010-02-22 00:00:00.000000', 0.0, 67),\n",
       " (44, 'USC00519397', '2010-02-23 00:00:00.000000', 0.0, 68),\n",
       " (45, 'USC00519397', '2010-02-24 00:00:00.000000', 0.0, 65),\n",
       " (46, 'USC00519397', '2010-02-25 00:00:00.000000', 0.0, 76),\n",
       " (47, 'USC00519397', '2010-02-26 00:00:00.000000', 0.0, 75),\n",
       " (48, 'USC00519397', '2010-02-28 00:00:00.000000', 0.0, 66),\n",
       " (49, 'USC00519397', '2010-03-01 00:00:00.000000', 0.01, 70),\n",
       " (50, 'USC00519397', '2010-03-02 00:00:00.000000', 0.0, 72),\n",
       " (51, 'USC00519397', '2010-03-03 00:00:00.000000', 0.0, 73),\n",
       " (52, 'USC00519397', '2010-03-04 00:00:00.000000', 0.12, 70),\n",
       " (53, 'USC00519397', '2010-03-05 00:00:00.000000', 0.08, 71),\n",
       " (54, 'USC00519397', '2010-03-06 00:00:00.000000', 0.03, 72),\n",
       " (55, 'USC00519397', '2010-03-07 00:00:00.000000', 0.0, 72),\n",
       " (56, 'USC00519397', '2010-03-08 00:00:00.000000', 0.43, 69),\n",
       " (57, 'USC00519397', '2010-03-09 00:00:00.000000', 0.06, 70),\n",
       " (58, 'USC00519397', '2010-03-12 00:00:00.000000', 0.0, 72),\n",
       " (59, 'USC00519397', '2010-03-13 00:00:00.000000', 0.0, 73),\n",
       " (60, 'USC00519397', '2010-03-14 00:00:00.000000', 0.0, 70),\n",
       " (61, 'USC00519397', '2010-03-15 00:00:00.000000', 0.06, 71),\n",
       " (62, 'USC00519397', '2010-03-17 00:00:00.000000', 0.0, 68),\n",
       " (63, 'USC00519397', '2010-03-18 00:00:00.000000', 0.0, 70),\n",
       " (64, 'USC00519397', '2010-03-21 00:00:00.000000', 0.0, 72),\n",
       " (65, 'USC00519397', '2010-03-22 00:00:00.000000', 0.0, 69),\n",
       " (66, 'USC00519397', '2010-03-23 00:00:00.000000', 0.0, 68),\n",
       " (67, 'USC00519397', '2010-03-24 00:00:00.000000', 0.0, 74),\n",
       " (68, 'USC00519397', '2010-03-27 00:00:00.000000', 0.0, 72),\n",
       " (69, 'USC00519397', '2010-03-28 00:00:00.000000', 0.0, 73),\n",
       " (70, 'USC00519397', '2010-03-29 00:00:00.000000', 0.0, 74),\n",
       " (71, 'USC00519397', '2010-03-30 00:00:00.000000', 0.0, 73),\n",
       " (72, 'USC00519397', '2010-03-31 00:00:00.000000', 0.0, 73),\n",
       " (73, 'USC00519397', '2010-04-01 00:00:00.000000', 0.0, 74),\n",
       " (74, 'USC00519397', '2010-04-02 00:00:00.000000', 0.01, 74),\n",
       " (75, 'USC00519397', '2010-04-03 00:00:00.000000', 0.17, 74),\n",
       " (76, 'USC00519397', '2010-04-04 00:00:00.000000', 0.15, 71),\n",
       " (77, 'USC00519397', '2010-04-05 00:00:00.000000', 0.27, 72),\n",
       " (78, 'USC00519397', '2010-04-06 00:00:00.000000', 0.01, 75),\n",
       " (79, 'USC00519397', '2010-04-08 00:00:00.000000', 0.0, 75),\n",
       " (80, 'USC00519397', '2010-04-09 00:00:00.000000', 0.01, 75),\n",
       " (81, 'USC00519397', '2010-04-10 00:00:00.000000', 0.0, 75),\n",
       " (82, 'USC00519397', '2010-04-11 00:00:00.000000', 0.01, 73),\n",
       " (83, 'USC00519397', '2010-04-12 00:00:00.000000', 0.01, 73),\n",
       " (84, 'USC00519397', '2010-04-13 00:00:00.000000', 0.0, 71),\n",
       " (85, 'USC00519397', '2010-04-15 00:00:00.000000', 0.0, 71),\n",
       " (86, 'USC00519397', '2010-04-16 00:00:00.000000', 0.01, 68),\n",
       " (87, 'USC00519397', '2010-04-17 00:00:00.000000', 0.0, 70),\n",
       " (88, 'USC00519397', '2010-04-18 00:00:00.000000', 0.0, 71),\n",
       " (89, 'USC00519397', '2010-04-19 00:00:00.000000', 0.0, 74),\n",
       " (90, 'USC00519397', '2010-04-20 00:00:00.000000', 0.04, 71),\n",
       " (91, 'USC00519397', '2010-04-21 00:00:00.000000', 0.01, 75),\n",
       " (92, 'USC00519397', '2010-04-22 00:00:00.000000', 0.0, 76),\n",
       " (93, 'USC00519397', '2010-04-23 00:00:00.000000', 0.02, 75),\n",
       " (94, 'USC00519397', '2010-04-24 00:00:00.000000', 0.0, 75),\n",
       " (95, 'USC00519397', '2010-04-25 00:00:00.000000', 0.0, 76),\n",
       " (96, 'USC00519397', '2010-04-26 00:00:00.000000', 0.0, 76),\n",
       " (97, 'USC00519397', '2010-04-28 00:00:00.000000', 0.0, 76),\n",
       " (98, 'USC00519397', '2010-04-30 00:00:00.000000', 0.0, 77),\n",
       " (99, 'USC00519397', '2010-05-01 00:00:00.000000', 0.0, 77),\n",
       " (100, 'USC00519397', '2010-05-02 00:00:00.000000', 0.03, 73)]"
      ]
     },
     "execution_count": 19,
     "metadata": {},
     "output_type": "execute_result"
    }
   ],
   "source": [
    "# Test that the insert works by fetching the first 5 rows. \n",
    "conn.execute(\"select * from measurements limit 100\").fetchall()"
   ]
  },
  {
   "cell_type": "code",
   "execution_count": 20,
   "metadata": {},
   "outputs": [],
   "source": [
    "conn.close()"
   ]
  },
  {
   "cell_type": "code",
   "execution_count": null,
   "metadata": {},
   "outputs": [],
   "source": []
  }
 ],
 "metadata": {
  "kernelspec": {
   "display_name": "Python 3",
   "language": "python",
   "name": "python3"
  },
  "language_info": {
   "codemirror_mode": {
    "name": "ipython",
    "version": 3
   },
   "file_extension": ".py",
   "mimetype": "text/x-python",
   "name": "python",
   "nbconvert_exporter": "python",
   "pygments_lexer": "ipython3",
   "version": "3.6.4"
  }
 },
 "nbformat": 4,
 "nbformat_minor": 2
}
