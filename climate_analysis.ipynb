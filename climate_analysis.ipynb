{
 "cells": [
  {
   "cell_type": "code",
   "execution_count": 1,
   "metadata": {},
   "outputs": [],
   "source": [
    "# Import SQLAlchemy `automap` and other dependencies\n",
    "import sqlalchemy\n",
    "from sqlalchemy.ext.automap import automap_base\n",
    "from sqlalchemy.orm import Session\n",
    "from sqlalchemy import create_engine, inspect\n",
    "from datetime import datetime, timedelta\n",
    "import numpy as np\n",
    "import pandas as pd\n",
    "import dateutil.parser\n",
    "import matplotlib"
   ]
  },
  {
   "cell_type": "code",
   "execution_count": 2,
   "metadata": {},
   "outputs": [],
   "source": [
    "# Create the connection engine\n",
    "engine = create_engine(\"sqlite:///hawaii.sqlite\")"
   ]
  },
  {
   "cell_type": "code",
   "execution_count": 3,
   "metadata": {},
   "outputs": [],
   "source": [
    "# Create the inspector and connect it to the engine\n",
    "inspector = inspect(engine)"
   ]
  },
  {
   "cell_type": "code",
   "execution_count": 4,
   "metadata": {},
   "outputs": [
    {
     "data": {
      "text/plain": [
       "['measurements', 'stations']"
      ]
     },
     "execution_count": 4,
     "metadata": {},
     "output_type": "execute_result"
    }
   ],
   "source": [
    "# Collect the names of tables within the database\n",
    "inspector.get_table_names()"
   ]
  },
  {
   "cell_type": "raw",
   "metadata": {},
   "source": [
    "# Using the inspector to print the column names within the 'stations' table and its types\n",
    "columns = inspector.get_columns('stations')\n",
    "for column in columns:\n",
    "    print(column[\"name\"], column[\"type\"])\n",
    "\n",
    "# Using the inspector to print the column names within the 'measurements' table and its types\n",
    "columns = inspector.get_columns('measurements')\n",
    "for column in columns:\n",
    "    print(column[\"name\"], column[\"type\"])"
   ]
  },
  {
   "cell_type": "code",
   "execution_count": 5,
   "metadata": {},
   "outputs": [],
   "source": [
    "# Declare a Base using `automap_base()`\n",
    "Base = automap_base()"
   ]
  },
  {
   "cell_type": "code",
   "execution_count": 6,
   "metadata": {},
   "outputs": [],
   "source": [
    "# Use the Base class to reflect the database tables\n",
    "Base.prepare(engine, reflect=True)"
   ]
  },
  {
   "cell_type": "code",
   "execution_count": 7,
   "metadata": {},
   "outputs": [
    {
     "data": {
      "text/plain": [
       "['measurements', 'stations']"
      ]
     },
     "execution_count": 7,
     "metadata": {},
     "output_type": "execute_result"
    }
   ],
   "source": [
    "# Print all of the classes mapped to the Base\n",
    "Base.classes.keys()"
   ]
  },
  {
   "cell_type": "code",
   "execution_count": 8,
   "metadata": {},
   "outputs": [],
   "source": [
    "# Assign the measurements class to a variable called `Measurements`\n",
    "Measurements = Base.classes.measurements"
   ]
  },
  {
   "cell_type": "code",
   "execution_count": 9,
   "metadata": {},
   "outputs": [],
   "source": [
    "# Assign the stations class to a variable called `Stations`\n",
    "Stations = Base.classes.stations"
   ]
  },
  {
   "cell_type": "code",
   "execution_count": 10,
   "metadata": {},
   "outputs": [],
   "source": [
    "# Create a session\n",
    "session = Session(engine)"
   ]
  },
  {
   "cell_type": "code",
   "execution_count": 11,
   "metadata": {},
   "outputs": [
    {
     "name": "stdout",
     "output_type": "stream",
     "text": [
      "(datetime.datetime(2010, 1, 1, 0, 0),)\n",
      "(datetime.datetime(2010, 1, 2, 0, 0),)\n",
      "(datetime.datetime(2010, 1, 3, 0, 0),)\n",
      "(datetime.datetime(2010, 1, 4, 0, 0),)\n",
      "(datetime.datetime(2010, 1, 7, 0, 0),)\n",
      "(datetime.datetime(2010, 1, 8, 0, 0),)\n",
      "(datetime.datetime(2010, 1, 9, 0, 0),)\n",
      "(datetime.datetime(2010, 1, 10, 0, 0),)\n",
      "(datetime.datetime(2010, 1, 11, 0, 0),)\n",
      "(datetime.datetime(2010, 1, 12, 0, 0),)\n",
      "(datetime.datetime(2010, 1, 14, 0, 0),)\n",
      "(datetime.datetime(2010, 1, 15, 0, 0),)\n",
      "(datetime.datetime(2010, 1, 16, 0, 0),)\n",
      "(datetime.datetime(2010, 1, 17, 0, 0),)\n",
      "(datetime.datetime(2010, 1, 18, 0, 0),)\n",
      "(datetime.datetime(2010, 1, 19, 0, 0),)\n",
      "(datetime.datetime(2010, 1, 20, 0, 0),)\n",
      "(datetime.datetime(2010, 1, 21, 0, 0),)\n",
      "(datetime.datetime(2010, 1, 22, 0, 0),)\n",
      "(datetime.datetime(2010, 1, 23, 0, 0),)\n",
      "(datetime.datetime(2010, 1, 24, 0, 0),)\n",
      "(datetime.datetime(2010, 1, 25, 0, 0),)\n",
      "(datetime.datetime(2010, 1, 26, 0, 0),)\n",
      "(datetime.datetime(2010, 1, 27, 0, 0),)\n",
      "(datetime.datetime(2010, 1, 28, 0, 0),)\n",
      "(datetime.datetime(2010, 1, 31, 0, 0),)\n",
      "(datetime.datetime(2010, 2, 1, 0, 0),)\n",
      "(datetime.datetime(2010, 2, 4, 0, 0),)\n",
      "(datetime.datetime(2010, 2, 5, 0, 0),)\n",
      "(datetime.datetime(2010, 2, 6, 0, 0),)\n",
      "(datetime.datetime(2010, 2, 7, 0, 0),)\n",
      "(datetime.datetime(2010, 2, 8, 0, 0),)\n",
      "(datetime.datetime(2010, 2, 9, 0, 0),)\n",
      "(datetime.datetime(2010, 2, 11, 0, 0),)\n",
      "(datetime.datetime(2010, 2, 12, 0, 0),)\n",
      "(datetime.datetime(2010, 2, 13, 0, 0),)\n",
      "(datetime.datetime(2010, 2, 14, 0, 0),)\n",
      "(datetime.datetime(2010, 2, 15, 0, 0),)\n",
      "(datetime.datetime(2010, 2, 16, 0, 0),)\n",
      "(datetime.datetime(2010, 2, 17, 0, 0),)\n",
      "(datetime.datetime(2010, 2, 20, 0, 0),)\n",
      "(datetime.datetime(2010, 2, 21, 0, 0),)\n",
      "(datetime.datetime(2010, 2, 22, 0, 0),)\n",
      "(datetime.datetime(2010, 2, 23, 0, 0),)\n",
      "(datetime.datetime(2010, 2, 24, 0, 0),)\n",
      "(datetime.datetime(2010, 2, 25, 0, 0),)\n",
      "(datetime.datetime(2010, 2, 26, 0, 0),)\n",
      "(datetime.datetime(2010, 2, 28, 0, 0),)\n",
      "(datetime.datetime(2010, 3, 1, 0, 0),)\n",
      "(datetime.datetime(2010, 3, 2, 0, 0),)\n",
      "(datetime.datetime(2010, 3, 3, 0, 0),)\n",
      "(datetime.datetime(2010, 3, 4, 0, 0),)\n",
      "(datetime.datetime(2010, 3, 5, 0, 0),)\n",
      "(datetime.datetime(2010, 3, 6, 0, 0),)\n",
      "(datetime.datetime(2010, 3, 7, 0, 0),)\n",
      "(datetime.datetime(2010, 3, 8, 0, 0),)\n",
      "(datetime.datetime(2010, 3, 9, 0, 0),)\n",
      "(datetime.datetime(2010, 3, 12, 0, 0),)\n",
      "(datetime.datetime(2010, 3, 13, 0, 0),)\n",
      "(datetime.datetime(2010, 3, 14, 0, 0),)\n",
      "(datetime.datetime(2010, 3, 15, 0, 0),)\n",
      "(datetime.datetime(2010, 3, 17, 0, 0),)\n",
      "(datetime.datetime(2010, 3, 18, 0, 0),)\n",
      "(datetime.datetime(2010, 3, 21, 0, 0),)\n",
      "(datetime.datetime(2010, 3, 22, 0, 0),)\n",
      "(datetime.datetime(2010, 3, 23, 0, 0),)\n",
      "(datetime.datetime(2010, 3, 24, 0, 0),)\n",
      "(datetime.datetime(2010, 3, 27, 0, 0),)\n",
      "(datetime.datetime(2010, 3, 28, 0, 0),)\n",
      "(datetime.datetime(2010, 3, 29, 0, 0),)\n",
      "(datetime.datetime(2010, 3, 30, 0, 0),)\n",
      "(datetime.datetime(2010, 3, 31, 0, 0),)\n",
      "(datetime.datetime(2010, 4, 1, 0, 0),)\n",
      "(datetime.datetime(2010, 4, 2, 0, 0),)\n",
      "(datetime.datetime(2010, 4, 3, 0, 0),)\n",
      "(datetime.datetime(2010, 4, 4, 0, 0),)\n",
      "(datetime.datetime(2010, 4, 5, 0, 0),)\n",
      "(datetime.datetime(2010, 4, 6, 0, 0),)\n",
      "(datetime.datetime(2010, 4, 8, 0, 0),)\n",
      "(datetime.datetime(2010, 4, 9, 0, 0),)\n",
      "(datetime.datetime(2010, 4, 10, 0, 0),)\n",
      "(datetime.datetime(2010, 4, 11, 0, 0),)\n",
      "(datetime.datetime(2010, 4, 12, 0, 0),)\n",
      "(datetime.datetime(2010, 4, 13, 0, 0),)\n",
      "(datetime.datetime(2010, 4, 15, 0, 0),)\n",
      "(datetime.datetime(2010, 4, 16, 0, 0),)\n",
      "(datetime.datetime(2010, 4, 17, 0, 0),)\n",
      "(datetime.datetime(2010, 4, 18, 0, 0),)\n",
      "(datetime.datetime(2010, 4, 19, 0, 0),)\n",
      "(datetime.datetime(2010, 4, 20, 0, 0),)\n",
      "(datetime.datetime(2010, 4, 21, 0, 0),)\n",
      "(datetime.datetime(2010, 4, 22, 0, 0),)\n",
      "(datetime.datetime(2010, 4, 23, 0, 0),)\n",
      "(datetime.datetime(2010, 4, 24, 0, 0),)\n",
      "(datetime.datetime(2010, 4, 25, 0, 0),)\n",
      "(datetime.datetime(2010, 4, 26, 0, 0),)\n",
      "(datetime.datetime(2010, 4, 28, 0, 0),)\n",
      "(datetime.datetime(2010, 4, 30, 0, 0),)\n",
      "(datetime.datetime(2010, 5, 1, 0, 0),)\n",
      "(datetime.datetime(2010, 5, 2, 0, 0),)\n"
     ]
    }
   ],
   "source": [
    "for row in session.query(Measurements.date).limit(100).all():\n",
    "    print(row)"
   ]
  },
  {
   "cell_type": "code",
   "execution_count": 12,
   "metadata": {},
   "outputs": [
    {
     "data": {
      "text/plain": [
       "[(datetime.datetime(2010, 1, 1, 0, 0)),\n",
       " (datetime.datetime(2010, 1, 2, 0, 0)),\n",
       " (datetime.datetime(2010, 1, 1, 0, 0)),\n",
       " (datetime.datetime(2010, 1, 2, 0, 0)),\n",
       " (datetime.datetime(2010, 1, 1, 0, 0)),\n",
       " (datetime.datetime(2010, 1, 2, 0, 0)),\n",
       " (datetime.datetime(2010, 1, 1, 0, 0)),\n",
       " (datetime.datetime(2010, 1, 2, 0, 0)),\n",
       " (datetime.datetime(2010, 1, 1, 0, 0)),\n",
       " (datetime.datetime(2010, 1, 2, 0, 0)),\n",
       " (datetime.datetime(2010, 1, 1, 0, 0)),\n",
       " (datetime.datetime(2010, 1, 2, 0, 0)),\n",
       " (datetime.datetime(2010, 1, 1, 0, 0)),\n",
       " (datetime.datetime(2010, 1, 2, 0, 0))]"
      ]
     },
     "execution_count": 12,
     "metadata": {},
     "output_type": "execute_result"
    }
   ],
   "source": [
    "session.query(Measurements.date) \\\n",
    "    .filter(Measurements.date>=datetime(2010,1, 1, 0, 0)) \\\n",
    "    .filter(Measurements.date<=datetime(2010,1,2)) \\\n",
    "    .all()"
   ]
  },
  {
   "cell_type": "markdown",
   "metadata": {},
   "source": [
    "### Precipitation Analysis"
   ]
  },
  {
   "cell_type": "markdown",
   "metadata": {},
   "source": [
    "* Design a query to retrieve the last 12 months of precipitation data.\n",
    "\n",
    "* Select only the `date` and `prcp` values.\n",
    "\n",
    "* Load the query results into a Pandas DataFrame and set the index to the date column.\n",
    "\n",
    "* Plot the results using the DataFrame `plot` method.\n",
    "\n",
    "* Use Pandas to print the summary statistics for the precipitation data."
   ]
  },
  {
   "cell_type": "code",
   "execution_count": 13,
   "metadata": {},
   "outputs": [],
   "source": [
    "def leap_year(y):\n",
    "    if y % 400 == 0:\n",
    "        return True\n",
    "    if y % 100 == 0:\n",
    "        return False\n",
    "    if y % 4 == 0:\n",
    "        return True\n",
    "    else:\n",
    "        return False\n",
    "\n",
    "def monthDiff(dt,numMonths):\n",
    "    monthRing = [1,2,3,4,5,6,7,8,9,10,11,12]\n",
    "    yearsBack = np.int(np.floor(numMonths/12))\n",
    "    monthsBack = numMonths % 12\n",
    "    # check for month\n",
    "    monthCheck = monthRing[dt.month-(monthsBack+1)]\n",
    "    if monthCheck in [1,3,5,7,8,10,12]:\n",
    "        return datetime(dt.year-yearsBack,monthCheck,dt.day)\n",
    "    elif monthCheck in [4,6,9,11]:\n",
    "        if dt.day > 30:\n",
    "            return datetime(dt.year-yearsBack,monthCheck,30)\n",
    "        else:\n",
    "            return datetime(dt.year-yearsBack,monthCheck,dt.day)\n",
    "    elif monthCheck in [2]:\n",
    "        if leap_year(datetime(dt.year-yearsBack,4,1).year) & (dt.day>=29):\n",
    "            print(\"ding\")\n",
    "            return datetime(dt.year-yearsBack,monthCheck,29)\n",
    "        else:\n",
    "            return datetime(dt.year-yearsBack,monthCheck,28)\n",
    "            \n",
    "        return 28\n",
    "    # need to return a timestamp that is year, month now\n",
    "    return leapFlag,monthRing[dt.month-(monthsBack+1)],yearsBack"
   ]
  },
  {
   "cell_type": "code",
   "execution_count": 14,
   "metadata": {},
   "outputs": [],
   "source": [
    "preciptQuery = session.query(Measurements.date,Measurements.prcp) \\\n",
    "    .filter(Measurements.date<=datetime.now()) \\\n",
    "    .filter(Measurements.date>=monthDiff(datetime.now(),12)) \\\n",
    "    .all()"
   ]
  },
  {
   "cell_type": "code",
   "execution_count": 15,
   "metadata": {},
   "outputs": [
    {
     "name": "stdout",
     "output_type": "stream",
     "text": [
      "Object `plot` not found.\n"
     ]
    }
   ],
   "source": [
    "pd.DataFrame(preciptQuery).set_index('date').plot?"
   ]
  },
  {
   "cell_type": "code",
   "execution_count": null,
   "metadata": {},
   "outputs": [],
   "source": [
    "pd.DataFrame(preciptQuery).set_index('date').plot"
   ]
  },
  {
   "cell_type": "code",
   "execution_count": 16,
   "metadata": {},
   "outputs": [],
   "source": [
    "df_preciptQuery = pd.DataFrame(preciptQuery).set_index('date')"
   ]
  },
  {
   "cell_type": "code",
   "execution_count": 18,
   "metadata": {},
   "outputs": [
    {
     "data": {
      "text/plain": [
       "<matplotlib.axes._subplots.AxesSubplot at 0x107e2de80>"
      ]
     },
     "execution_count": 18,
     "metadata": {},
     "output_type": "execute_result"
    },
    {
     "data": {
      "image/png": "[encoded data removed]",
      "text/plain": [
       "<matplotlib.figure.Figure at 0x107b4ec50>"
      ]
     },
     "metadata": {},
     "output_type": "display_data"
    }
   ],
   "source": [
    "df_preciptQuery.rename(columns={'prcp':'precipitation'}).plot()"
   ]
  },
  {
   "cell_type": "markdown",
   "metadata": {},
   "source": [
    "### Temperature Analysis"
   ]
  },
  {
   "cell_type": "markdown",
   "metadata": {},
   "source": [
    "* Write a function called `calc_temps` that will accept a start date and end date in the format `%Y-%m-%d` and return the minimum, average, and maximum temperatures for that range of dates.\n",
    "\n",
    "* Use the `calc_temps` function to calculate the min, avg, and max temperatures for your trip using the matching dates from the previous year (i.e. use \"2017-01-01\" if your trip start date was \"2018-01-01\")\n",
    "\n",
    "* Plot the min, avg, and max temperature from your previous query as a bar chart.\n",
    "\n",
    "  * Use the average temperature as the bar height.\n",
    "\n",
    "  * Use the peak-to-peak (tmax-tmin) value as the y error bar (yerr)."
   ]
  },
  {
   "cell_type": "code",
   "execution_count": 19,
   "metadata": {},
   "outputs": [],
   "source": [
    "def getTempMinMaxAvg(sDate,eDate):\n",
    "    tempObs = session.query(Measurements.date,Measurements.tobs)\\\n",
    "        .filter(Measurements.date>=sDate)\\\n",
    "        .filter(Measurements.date<=eDate).all()\n",
    "    df1 = pd.DataFrame(tempObs)\n",
    "    dfmean = df1.groupby('date').mean().reset_index().rename(columns={\"tobs\":\"T (mean)\"})\n",
    "    dfmax = df1.groupby('date').max().reset_index().rename(columns={\"tobs\":\"T (max)\"})\n",
    "    dfmin = df1.groupby('date').min().reset_index().rename(columns={\"tobs\":\"T (min)\"})\n",
    "    dfT = dfmean.set_index('date').join(dfmax.set_index('date').join(dfmin.set_index('date')))\n",
    "    return dfT\n",
    "    \n",
    "def calc_temps(startDate,endDate):\n",
    "    sDate = dateutil.parser.parse(startDate)\n",
    "    eDate = dateutil.parser.parse(endDate)\n",
    "    return getTempMinMaxAvg(sDate,eDate)"
   ]
  },
  {
   "cell_type": "code",
   "execution_count": 20,
   "metadata": {},
   "outputs": [],
   "source": [
    "dfTrange = calc_temps(\"2017-4-1\",\"2017-4-15\")"
   ]
  },
  {
   "cell_type": "code",
   "execution_count": 21,
   "metadata": {},
   "outputs": [
    {
     "data": {
      "image/png": "[encoded data removed]",
      "text/plain": [
       "<matplotlib.figure.Figure at 0x1082e4550>"
      ]
     },
     "metadata": {},
     "output_type": "display_data"
    }
   ],
   "source": [
    "matplotlib.pylab.bar(dfTrange.index,dfTrange['T (mean)'],yerr=(dfTrange['T (max)']-dfTrange['T (min)']))\n",
    "matplotlib.pylab.xticks(rotation=80)\n",
    "matplotlib.pylab.xlabel('dates')\n",
    "matplotlib.pylab.ylabel('Average Temperature (F)')\n",
    "matplotlib.pylab.show()"
   ]
  },
  {
   "cell_type": "code",
   "execution_count": null,
   "metadata": {},
   "outputs": [],
   "source": []
  },
  {
   "cell_type": "code",
   "execution_count": null,
   "metadata": {},
   "outputs": [],
   "source": []
  }
 ],
 "metadata": {
  "kernelspec": {
   "display_name": "Python 3",
   "language": "python",
   "name": "python3"
  },
  "language_info": {
   "codemirror_mode": {
    "name": "ipython",
    "version": 3
   },
   "file_extension": ".py",
   "mimetype": "text/x-python",
   "name": "python",
   "nbconvert_exporter": "python",
   "pygments_lexer": "ipython3",
   "version": "3.6.4"
  }
 },
 "nbformat": 4,
 "nbformat_minor": 2
}
